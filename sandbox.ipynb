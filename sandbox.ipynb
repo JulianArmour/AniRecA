{
 "cells": [
  {
   "cell_type": "code",
   "execution_count": 10,
   "id": "733dab90",
   "metadata": {},
   "outputs": [],
   "source": [
    "import json\n",
    "import requests"
   ]
  },
  {
   "cell_type": "code",
   "execution_count": 13,
   "id": "11573f21",
   "metadata": {},
   "outputs": [],
   "source": [
    "# Here we define our query as a multi-line string\n",
    "query = '''\n",
    "query MyQuery($id: Int) { # Define which variables will be used in the query (id)\n",
    "  Media (id: $id, type: ANIME) { # Insert our variables into the query arguments (id) (type: ANIME is hard-coded in the query)\n",
    "    id\n",
    "    title {\n",
    "      romaji\n",
    "      english\n",
    "      native\n",
    "    }\n",
    "  }\n",
    "}\n",
    "'''\n",
    "\n",
    "# Define our query variables and values that will be used in the query request\n",
    "variables = {\n",
    "    'id': 15125\n",
    "}\n",
    "\n",
    "url = 'https://graphql.anilist.co'\n",
    "\n",
    "# Make the HTTP Api request\n",
    "response = requests.post(url, json={'query': query, 'variables': variables})"
   ]
  },
  {
   "cell_type": "code",
   "execution_count": 14,
   "id": "75f7de9a",
   "metadata": {
    "scrolled": true
   },
   "outputs": [
    {
     "name": "stdout",
     "output_type": "stream",
     "text": [
      "{\n",
      "    \"data\": {\n",
      "        \"Media\": {\n",
      "            \"id\": 15125,\n",
      "            \"title\": {\n",
      "                \"romaji\": \"Teekyuu\",\n",
      "                \"english\": \"Teekyuu\",\n",
      "                \"native\": \"\\u3066\\u30fc\\u304d\\u3085\\u3046\"\n",
      "            }\n",
      "        }\n",
      "    }\n",
      "}\n"
     ]
    }
   ],
   "source": [
    "print(json.dumps(response.json(), indent=4))"
   ]
  },
  {
   "cell_type": "markdown",
   "id": "269e5e56",
   "metadata": {},
   "source": [
    "# Get Recommended Anime Given ID"
   ]
  },
  {
   "cell_type": "code",
   "execution_count": 15,
   "id": "df5a5cbf",
   "metadata": {},
   "outputs": [],
   "source": [
    "query = \"\"\"\n",
    "query CompletedRecs {\n",
    "  MediaListCollection(userName:\"SimpleCore\", type:ANIME, status:COMPLETED, sort:SCORE_DESC) {\n",
    "    lists {\n",
    "      entries {\n",
    "        score(format: POINT_100)\n",
    "        media {\n",
    "          id\n",
    "          title {\n",
    "            english\n",
    "          }\n",
    "          recommendations(sort:RATING_DESC, page:0, perPage:20) {\n",
    "            edges {\n",
    "              node {\n",
    "                rating\n",
    "                mediaRecommendation {\n",
    "                  id\n",
    "                  title{english}\n",
    "                }\n",
    "              }\n",
    "            }\n",
    "          }\n",
    "        }\n",
    "      }\n",
    "    }\n",
    "  }\n",
    "}\n",
    "\"\"\""
   ]
  },
  {
   "cell_type": "code",
   "execution_count": null,
   "id": "735334d0",
   "metadata": {},
   "outputs": [],
   "source": []
  }
 ],
 "metadata": {
  "kernelspec": {
   "display_name": "Python 3",
   "language": "python",
   "name": "python3"
  },
  "language_info": {
   "codemirror_mode": {
    "name": "ipython",
    "version": 3
   },
   "file_extension": ".py",
   "mimetype": "text/x-python",
   "name": "python",
   "nbconvert_exporter": "python",
   "pygments_lexer": "ipython3",
   "version": "3.8.8"
  }
 },
 "nbformat": 4,
 "nbformat_minor": 5
}
