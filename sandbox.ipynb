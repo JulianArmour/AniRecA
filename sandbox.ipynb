{
 "cells": [
  {
   "cell_type": "code",
   "execution_count": 10,
   "id": "733dab90",
   "metadata": {},
   "outputs": [],
   "source": [
    "import json\n",
    "import requests"
   ]
  },
  {
   "cell_type": "code",
   "execution_count": 13,
   "id": "11573f21",
   "metadata": {},
   "outputs": [],
   "source": [
    "# Here we define our query as a multi-line string\n",
    "query = '''\n",
    "query MyQuery($id: Int) { # Define which variables will be used in the query (id)\n",
    "  Media (id: $id, type: ANIME) { # Insert our variables into the query arguments (id) (type: ANIME is hard-coded in the query)\n",
    "    id\n",
    "    title {\n",
    "      romaji\n",
    "      english\n",
    "      native\n",
    "    }\n",
    "  }\n",
    "}\n",
    "'''\n",
    "\n",
    "# Define our query variables and values that will be used in the query request\n",
    "variables = {\n",
    "    'id': 15125\n",
    "}\n",
    "\n",
    "url = 'https://graphql.anilist.co'\n",
    "\n",
    "# Make the HTTP Api request\n",
    "response = requests.post(url, json={'query': query, 'variables': variables})"
   ]
  },
  {
   "cell_type": "code",
   "execution_count": 14,
   "id": "75f7de9a",
   "metadata": {
    "scrolled": true
   },
   "outputs": [
    {
     "name": "stdout",
     "output_type": "stream",
     "text": [
      "{\n",
      "    \"data\": {\n",
      "        \"Media\": {\n",
      "            \"id\": 15125,\n",
      "            \"title\": {\n",
      "                \"romaji\": \"Teekyuu\",\n",
      "                \"english\": \"Teekyuu\",\n",
      "                \"native\": \"\\u3066\\u30fc\\u304d\\u3085\\u3046\"\n",
      "            }\n",
      "        }\n",
      "    }\n",
      "}\n"
     ]
    }
   ],
   "source": [
    "print(json.dumps(response.json(), indent=4))"
   ]
  },
  {
   "cell_type": "markdown",
   "id": "269e5e56",
   "metadata": {},
   "source": [
    "# Get Recommended Anime Given User"
   ]
  },
  {
   "cell_type": "code",
   "execution_count": 39,
   "id": "df5a5cbf",
   "metadata": {},
   "outputs": [],
   "source": [
    "query = \"\"\"\n",
    "query CompletedRecs {\n",
    "  MediaListCollection(userName:\"SimpleCore\", type:ANIME, status:COMPLETED, sort:SCORE_DESC) {\n",
    "    lists {\n",
    "      entries {\n",
    "        score(format: POINT_100)\n",
    "        media {\n",
    "          id\n",
    "          title {\n",
    "            english\n",
    "            romaji\n",
    "          }\n",
    "          recommendations(sort:RATING_DESC, page:0, perPage:10) {\n",
    "            edges {\n",
    "              node {\n",
    "                rating\n",
    "                mediaRecommendation {\n",
    "                  id\n",
    "                  title{\n",
    "                    english\n",
    "                    romaji\n",
    "                  }\n",
    "                }\n",
    "              }\n",
    "            }\n",
    "          }\n",
    "        }\n",
    "      }\n",
    "    }\n",
    "  }\n",
    "}\n",
    "\"\"\""
   ]
  },
  {
   "cell_type": "code",
   "execution_count": 40,
   "id": "735334d0",
   "metadata": {},
   "outputs": [],
   "source": [
    "response = requests.post(url, json={'query': query})"
   ]
  },
  {
   "cell_type": "code",
   "execution_count": 41,
   "id": "080a48b8",
   "metadata": {},
   "outputs": [],
   "source": [
    "data = response.json()"
   ]
  },
  {
   "cell_type": "code",
   "execution_count": 61,
   "id": "4430a750",
   "metadata": {
    "scrolled": false
   },
   "outputs": [],
   "source": [
    "from collections import defaultdict\n",
    "from pprint import pprint\n",
    "entries = data['data']['MediaListCollection']['lists'][0]['entries']\n",
    "my_watched_anime = [(entry['media']['id'], entry['media']['title']['romaji']) for entry in entries]\n",
    "my_watched_anime_keys = set(id for (id, name) in my_watched_anime)"
   ]
  },
  {
   "cell_type": "code",
   "execution_count": 70,
   "id": "d138dc21",
   "metadata": {},
   "outputs": [
    {
     "name": "stdout",
     "output_type": "stream",
     "text": [
      "[('Vinland Saga', 1746.1999999999998),\n",
      " ('ONE PIECE', 1520.8),\n",
      " ('Dororo', 1419.25),\n",
      " ('Tate no Yuusha no Nariagari', 1073.05),\n",
      " ('Tokyo Revengers', 1024.0),\n",
      " ('Shinchou Yuusha: Kono Yuusha ga Ore TUEEE Kuse ni Shinchou Sugiru', 955.0),\n",
      " ('Promare', 899.0),\n",
      " ('Yuu☆Yuu☆Hakusho', 895.3),\n",
      " ('Black Clover', 835.0),\n",
      " ('NARUTO', 735.25),\n",
      " ('Summer Time Render', 720.1),\n",
      " ('Sono Bisque Doll wa Koi wo Suru', 700.7),\n",
      " ('Wotaku ni Koi wa Muzukashii', 698.8000000000001),\n",
      " ('Tonikaku Kawaii', 684.6),\n",
      " ('Wonder Egg Priority', 672.0),\n",
      " ('Re:Zero kara Hajimeru Isekai Seikatsu 2nd Season Part 2', 641.95),\n",
      " ('Josee to Tora to Sakanatachi', 641.1999999999999),\n",
      " ('Shin Seiki Evangelion', 638.9000000000001),\n",
      " ('Saiki Kusuo no Ψ-nan', 634.3),\n",
      " ('Kotonoha no Niwa', 629.05),\n",
      " ('Byousoku 5 Centimeter', 626.75),\n",
      " ('Hyouka', 624.2),\n",
      " ('Yuru Camp△', 569.65),\n",
      " ('Shiguang Dailiren', 550.3),\n",
      " ('Shinsekai yori', 548.65),\n",
      " ('Tensei Shitara Slime Datta Ken 2nd Season', 510.20000000000005),\n",
      " ('Zankyou no Terror', 498.25),\n",
      " ('Ore wo Suki nano wa Omae dake ka yo', 494.1),\n",
      " ('Seishun Buta Yarou wa Yumemiru Shoujo no Yume wo Minai', 478.1),\n",
      " ('Isekai Quartet', 436.3),\n",
      " ('Shoujo Shuumatsu Ryokou', 420.2),\n",
      " ('Hibike! Euphonium', 403.70000000000005),\n",
      " ('Ano Hi Mita Hana no Namae wo Bokutachi wa Mada Shiranai.', 403.55),\n",
      " ('Rikei ga Koi ni Ochita no de Shoumei shitemita.', 403.3),\n",
      " ('Vanitas no Carte', 402.05),\n",
      " ('Yuukoku no Moriarty', 399.90000000000003),\n",
      " ('FLCL', 399.5),\n",
      " ('GREAT PRETENDER', 388.3),\n",
      " ('Kanojo, Okarishimasu', 383.6),\n",
      " ('Plastic Memories', 379.6),\n",
      " ('Sentouin, Hakenshimasu!', 369.9),\n",
      " ('Jaku-Chara Tomozaki-kun', 368.6),\n",
      " ('CLANNAD: After Story', 352.35),\n",
      " ('Enen no Shouboutai', 350.3),\n",
      " ('Ookami Kodomo no Ame to Yuki', 346.34999999999997),\n",
      " ('Itai no wa Iya nano de Bougyoryoku ni Kyokufuri Shitai to Omoimasu.', 326.4),\n",
      " ('Kumo desu ga, Nani ka?', 320.6),\n",
      " ('SPY×FAMILY', 315.90000000000003),\n",
      " ('3-gatsu no Lion', 304.20000000000005),\n",
      " ('Bishounen Tanteidan', 302.9)]\n"
     ]
    }
   ],
   "source": [
    "recommendations_by_mode = defaultdict(int)\n",
    "recommendations_by_weighted_mode = defaultdict(float)\n",
    "recommendations_by_weighted_ratings = defaultdict(float)\n",
    "\n",
    "for entry in entries:\n",
    "    score = entry['score']\n",
    "    if score < 7:\n",
    "        continue\n",
    "    entry_weight = score / 100\n",
    "    for recommendation in entry['media']['recommendations']['edges']:\n",
    "        media = recommendation['node']['mediaRecommendation']\n",
    "        rating = recommendation['node']['rating']\n",
    "        if media is None:\n",
    "            continue\n",
    "        if media['id'] not in my_watched_anime_keys:\n",
    "            recommendations_by_mode[media['title']['romaji']] += 1\n",
    "            recommendations_by_weighted_mode[media['title']['romaji']] += entry_weight\n",
    "            recommendations_by_weighted_ratings[media['title']['romaji']] += entry_weight * rating\n",
    "            \n",
    "mode_recommendations = [(name, count) for name, count in recommendations_by_mode.items()]\n",
    "mode_recommendations.sort(key=lambda recommendation: recommendation[1], reverse=True)\n",
    "# pprint(mode_recommendations[:20])\n",
    "\n",
    "weighted_mode_recommendations = [(name, count) for name, count in recommendations_by_weighted_mode.items()]\n",
    "weighted_mode_recommendations.sort(key=lambda recommendation: recommendation[1], reverse=True)\n",
    "# pprint(weighted_mode_recommendations[:20])\n",
    "\n",
    "weighted_ratings_recommendations = [(name, count) for name, count in recommendations_by_weighted_ratings.items()]\n",
    "weighted_ratings_recommendations.sort(key=lambda recommendation: recommendation[1], reverse=True)\n",
    "pprint(weighted_ratings_recommendations[:50])"
   ]
  },
  {
   "cell_type": "code",
   "execution_count": null,
   "id": "0915a37c",
   "metadata": {},
   "outputs": [],
   "source": []
  }
 ],
 "metadata": {
  "kernelspec": {
   "display_name": "Python 3",
   "language": "python",
   "name": "python3"
  },
  "language_info": {
   "codemirror_mode": {
    "name": "ipython",
    "version": 3
   },
   "file_extension": ".py",
   "mimetype": "text/x-python",
   "name": "python",
   "nbconvert_exporter": "python",
   "pygments_lexer": "ipython3",
   "version": "3.8.8"
  }
 },
 "nbformat": 4,
 "nbformat_minor": 5
}
